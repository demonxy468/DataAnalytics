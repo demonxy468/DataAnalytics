{
 "cells": [
  {
   "cell_type": "code",
   "execution_count": 1,
   "metadata": {
    "collapsed": false
   },
   "outputs": [],
   "source": [
    "#%pyspark\n",
    "\n",
    "from pyspark import SparkConf, SparkContext\n",
    "from pyspark.sql.functions import *\n",
    "#from pyspark.streaming import StreamingContext\n",
    "from pyspark.sql import SQLContext\n",
    "from pyspark.sql.types import StructType, StructField, StringType,DecimalType,IntegerType,FloatType,DateType,TimestampType\n",
    "from pyspark.sql.types import *\n",
    "from pyspark.sql.functions import explode;\n",
    "import pyspark;\n",
    "import os;\n",
    "from datetime import datetime \n",
    "#import pandas as pd;\n",
    "\n",
    "import json;\n",
    "import gzip;\n",
    "\n"
   ]
  },
  {
   "cell_type": "code",
   "execution_count": 3,
   "metadata": {
    "collapsed": false
   },
   "outputs": [
    {
     "data": {
      "text/plain": [
       "'/Users/demonxy468/Desktop/Jump/Spark/Data'"
      ]
     },
     "execution_count": 3,
     "metadata": {},
     "output_type": "execute_result"
    }
   ],
   "source": [
    "import os\n",
    "\n",
    "os.chdir('/Users/demonxy468/Desktop/Jump/Spark/Data')\n",
    "os.getcwd()"
   ]
  },
  {
   "cell_type": "code",
   "execution_count": 7,
   "metadata": {
    "collapsed": false
   },
   "outputs": [],
   "source": [
    "#%pyspark\n",
    "#rdd = sc.textFile(\"s3://amazon-product-offers/offer-sample/ae-product-offers-5-2017-04-01*.gz\")\n",
    "\n",
    "#offerDF = sqlContext.read.json(\"s3://amazon-product-offers/offer-sample/ae-product-offers-5-2017-04-01*.gz\")\n",
    "key = '~/ae-product-offers-5-2017-04-12-23-00-01-ef101cde-63a7-45c2-966e-b62ca7a842cb.gz'\n",
    "#offerDF = sqlContext.read.json(\"s3://amazon-product-offers/offer-sample/ae-product-offers-5-2017-04-01-01-24-00-db838163-b7a6-42f0-bfb0-76fa8c6bb2bc.gz\")\n",
    "\n",
    "offerDF = sqlContext.read.json(key)"
   ]
  },
  {
   "cell_type": "code",
   "execution_count": 17,
   "metadata": {
    "collapsed": false
   },
   "outputs": [
    {
     "name": "stdout",
     "output_type": "stream",
     "text": [
      "+-----------+----------+-------------+--------------------+--------------------+------+\n",
      "|ConditionId|    ItemId|MarketplaceId|       ProductOffers|   TimeOfOfferChange|UserId|\n",
      "+-----------+----------+-------------+--------------------+--------------------+------+\n",
      "|          4|B008JFQ3O0|         6386|[[new,ATVPDKIKX0D...|/Date(14920379303...|  8828|\n",
      "+-----------+----------+-------------+--------------------+--------------------+------+\n",
      "\n"
     ]
    }
   ],
   "source": [
    "offerDF.show()"
   ]
  },
  {
   "cell_type": "code",
   "execution_count": null,
   "metadata": {
    "collapsed": true
   },
   "outputs": [],
   "source": []
  },
  {
   "cell_type": "code",
   "execution_count": 12,
   "metadata": {
    "collapsed": false
   },
   "outputs": [
    {
     "ename": "SyntaxError",
     "evalue": "invalid syntax (<ipython-input-12-d41651559083>, line 5)",
     "output_type": "error",
     "traceback": [
      "\u001b[0;36m  File \u001b[0;32m\"<ipython-input-12-d41651559083>\"\u001b[0;36m, line \u001b[0;32m5\u001b[0m\n\u001b[0;31m    .withColumn(\"ListingPrice\", explode(col(\"ProductOffers.Summary.LowestPrices.ListingPrice.Amount\"))).withColumn(\"ListingPrice_Currency\", explode(col(\"ProductOffers.Summary.LowestPrices.ListingPrice.CurrencyCode\"))).withColumn(\"MinimumAdvertisedPrice\", col(\"ProductOffers.Summary.MinimumAdvertisedPrice\")).withColumn(\"SalesRankings\", explode(col(\"ProductOffers.Summary.SalesRankings.ProductCategoryId\"))).withColumn(\"NumberOfOffers\", explode(col(\"ProductOffers.Summary.SalesRankings.Rank\"))).withColumn(\"SuggestedLowerPricePlusShipping\",col(\"ProductOffers.Summary.SuggestedLowerPricePlusShipping\")).withColumn(\"TotalOfferCount\",col(\"ProductOffers.Summary.TotalOfferCount\")).withColumn('OfOfferChangeDatetime', col( from_unixtime((regexp_replace('TimeOfOfferChange','[^0-9]', ''))/1000)))\u001b[0m\n\u001b[0m    ^\u001b[0m\n\u001b[0;31mSyntaxError\u001b[0m\u001b[0;31m:\u001b[0m invalid syntax\n"
     ]
    }
   ],
   "source": [
    "%pyspark\n",
    "\n",
    "res = offerDF.withColumn(\"ItemCondition\", col(\"ProductOffers.Identifier.ItemCondition\"))\\\n",
    ".withColumn(\"IsBuyBoxWinner\", explode(col(\"ProductOffers.Offers.IsBuyBoxWinner\")))\\\n",
    ".withColumn(\"IsExpeditedShippingAvailable\", explode(col(\"ProductOffers.Offers.IsExpeditedShippingAvailable\")))\\\n",
    ".withColumn(\"IsFeaturedMerchant\", explode(col(\"ProductOffers.Offers.IsFeaturedMerchant\")))\\\n",
    ".withColumn(\"listingprice_amount\", explode(col(\"ProductOffers.Offers.ListingPrice.Amount\")))\\\n",
    ".withColumn(\"listingprice_currency\", explode(col(\"ProductOffers.Offers.ListingPrice.CurrencyCode\")))\\\n",
    ".withColumn(\"Points\", explode(col(\"ProductOffers.Offers.Points\")))\\\n",
    ".withColumn(\"FeedbackCount\", explode(col(\"ProductOffers.Offers.SellerFeedbackRating.FeedbackCount\")))\\\n",
    ".withColumn(\"SellerPositiveFeedbackRating\", explode(col(\"ProductOffers.Offers.SellerFeedbackRating.SellerPositiveFeedbackRating\")))\\\n",
    ".withColumn(\"SellerId\", explode(col(\"ProductOffers.Offers.SellerId\")))\\\n",
    ".withColumn(\"shipping_amount\", explode(col(\"ProductOffers.Offers.Shipping.Amount\")))\\\n",
    ".withColumn(\"shipping_currency\", explode(col(\"ProductOffers.Offers.Shipping.CurrencyCode\")))\\\n",
    ".withColumn(\"availabilityType\", explode(col(\"ProductOffers.Offers.ShippingTime.AvailabilityType\")))\\\n",
    ".withColumn(\"availableDate\", explode(col(\"ProductOffers.Offers.ShippingTime.AvailableDate\")))\\\n",
    ".withColumn(\"maximumHours\", explode(col(\"ProductOffers.Offers.ShippingTime.MaximumHours\")))\\\n",
    ".withColumn(\"minimumHours\", explode(col(\"ProductOffers.Offers.ShippingTime.MinimumHours\")))\\\n",
    ".withColumn(\"shipsDomestically\", explode(col(\"ProductOffers.Offers.ShipsDomestically\")))\\\n",
    ".withColumn(\"shipsFrom\", explode(col(\"ProductOffers.Offers.ShipsFrom\")))\\\n",
    ".withColumn(\"shipsInternationally\", explode(col(\"ProductOffers.Offers.ShipsInternationally\")))\\\n",
    ".withColumn(\"subCondition\", explode(col(\"ProductOffers.Offers.SubCondition\")))\\\n",
    ".withColumn(\"BuyBoxEligibleOffersCondition\", explode(col(\"ProductOffers.Summary.BuyBoxEligibleOffers.Condition\")))\\\n",
    ".withColumn(\"FulfillmentChannel\", explode(col(\"ProductOffers.Summary.BuyBoxEligibleOffers.FulfillmentChannel\")))\\\n",
    ".withColumn(\"BuyBoxEligibleOffersCount\", explode(col(\"ProductOffers.Summary.BuyBoxEligibleOffers.Value\")))\\\n",
    ".withColumn(\"LandedPrice_Amount\", explode(col(\"ProductOffers.Summary.BuyBoxPrices.LandedPrice.Amount\")))\\\n",
    ".withColumn(\"LandedPrice_Currency\", explode(col(\"ProductOffers.Summary.BuyBoxPrices.LandedPrice.CurrencyCode\")))\\\n",
    ".withColumn(\"BB_listPrice_Amount\", explode(col(\"ProductOffers.Summary.BuyBoxPrices.ListingPrice.Amount\")))\\\n",
    ".withColumn(\"BB_ListPrice_Currency\", explode(col(\"ProductOffers.Summary.BuyBoxPrices.ListingPrice.CurrencyCode\")))\\\n",
    ".withColumn(\"Points\", explode(col(\"ProductOffers.Summary.BuyBoxPrices.Points\")))\\\n",
    "#.withColumn(\"ListPrice_Amount\", col(\"ProductOffers.Summary.ListPrice.Amount\"))\\\n",
    "#.withColumn(\"ListPrice_Currency\", col(\"ProductOffers.Summary.ListPrice.CurrencyCode\"))\\\n",
    ".withColumn(\"ListingPrice\", explode(col(\"ProductOffers.Summary.LowestPrices.ListingPrice.Amount\")))\\\n",
    ".withColumn(\"ListingPrice_Currency\", explode(col(\"ProductOffers.Summary.LowestPrices.ListingPrice.CurrencyCode\")))\\\n",
    ".withColumn(\"MinimumAdvertisedPrice\", col(\"ProductOffers.Summary.MinimumAdvertisedPrice\"))\\\n",
    ".withColumn(\"SalesRankings\", explode(col(\"ProductOffers.Summary.SalesRankings.ProductCategoryId\")))\\\n",
    ".withColumn(\"NumberOfOffers\", explode(col(\"ProductOffers.Summary.SalesRankings.Rank\")))\\\n",
    ".withColumn(\"SuggestedLowerPricePlusShipping\",col(\"ProductOffers.Summary.SuggestedLowerPricePlusShipping\"))\\\n",
    ".withColumn(\"TotalOfferCount\",col(\"ProductOffers.Summary.TotalOfferCount\"))\\\n",
    ".withColumn('OfOfferChangeDatetime', from_unixtime((regexp_replace('TimeOfOfferChange','[^0-9]', ''))/1000))\n",
    "\n",
    "cols = ['ProductOffers','TimeOfOfferChange']\n",
    "offerData = reduce(lambda x,y: x.drop(y),cols,res)\n",
    "offerData.show(1)"
   ]
  },
  {
   "cell_type": "code",
   "execution_count": null,
   "metadata": {
    "collapsed": true
   },
   "outputs": [],
   "source": [
    "%pyspark\n",
    "\n",
    "\n",
    "offerData.write.csv(\"s3a://offer-flatten/output321/\", sep=',')"
   ]
  },
  {
   "cell_type": "code",
   "execution_count": 6,
   "metadata": {
    "collapsed": false
   },
   "outputs": [],
   "source": [
    "from datetime import datetime \n",
    "\n",
    "TC_Preditor_Name = \"TC_Preditor_{0}.csv\".format(datetime.utcnow().strftime(\"utc%Y%m%d\"))\n",
    "TC_Preditor_Name_prefixKey =  (datetime.utcnow()).strftime(\"prod/trialconversion-predictor/minPriceDatapoints/%Y/%m/%d/\") + TC_Preditor_Name\n",
    "\n",
    "#offerData.write.csv(\"s3a://offer-flatten/FlattenOutput/{0}\".format(TC_Preditor_Name_prefixKey), sep=',')"
   ]
  },
  {
   "cell_type": "code",
   "execution_count": 7,
   "metadata": {
    "collapsed": false
   },
   "outputs": [
    {
     "data": {
      "text/plain": [
       "'prod/trialconversion-predictor/minPriceDatapoints/2017/10/02/TC_Preditor_utc20171002.csv'"
      ]
     },
     "execution_count": 7,
     "metadata": {},
     "output_type": "execute_result"
    }
   ],
   "source": [
    "TC_Preditor_Name_prefixKey"
   ]
  },
  {
   "cell_type": "code",
   "execution_count": 9,
   "metadata": {
    "collapsed": false
   },
   "outputs": [],
   "source": [
    "a = ['US','MO']"
   ]
  },
  {
   "cell_type": "code",
   "execution_count": 11,
   "metadata": {
    "collapsed": false
   },
   "outputs": [
    {
     "data": {
      "text/plain": [
       "'US-MO'"
      ]
     },
     "execution_count": 11,
     "metadata": {},
     "output_type": "execute_result"
    }
   ],
   "source": [
    "a[0]+'-'+a[1]"
   ]
  },
  {
   "cell_type": "code",
   "execution_count": 13,
   "metadata": {
    "collapsed": false
   },
   "outputs": [
    {
     "ename": "SyntaxError",
     "evalue": "invalid syntax (<ipython-input-13-6f391ebefc07>, line 8)",
     "output_type": "error",
     "traceback": [
      "\u001b[0;36m  File \u001b[0;32m\"<ipython-input-13-6f391ebefc07>\"\u001b[0;36m, line \u001b[0;32m8\u001b[0m\n\u001b[0;31m    .withColumn(\"availabilityType\", explode(col(\"ProductOffers.Offers.ShippingTime.AvailabilityType\"))).withColumn(\"availableDate\", explode(col(\"ProductOffers.Offers.ShippingTime.AvailableDate\"))).withColumn(\"maximumHours\", explode(col(\"ProductOffers.Offers.ShippingTime.MaximumHours\"))).withColumn(\"minimumHours\", explode(col(\"ProductOffers.Offers.ShippingTime.MinimumHours\"))).withColumn(\"shipsDomestically\", explode(col(\"ProductOffers.Offers.ShipsDomestically\")))\u001b[0m\n\u001b[0m    ^\u001b[0m\n\u001b[0;31mSyntaxError\u001b[0m\u001b[0;31m:\u001b[0m invalid syntax\n"
     ]
    }
   ],
   "source": [
    "#lambda x:x[0]+'-'+x[1]\n",
    "\n",
    "\n",
    "#%pyspark\n",
    "\n",
    "\n",
    "res = offerDF.withColumn(\"ItemCondition\", col(\"ProductOffers.Identifier.ItemCondition\"))\\\n",
    ".withColumn(\"IsBuyBoxWinner\", explode(col(\"ProductOffers.Offers.IsBuyBoxWinner\")))\\\n",
    ".withColumn(\"IsExpeditedShippingAvailable\", explode(col(\"ProductOffers.Offers.IsExpeditedShippingAvailable\")))\\\n",
    ".withColumn(\"IsFeaturedMerchant\", explode(col(\"ProductOffers.Offers.IsFeaturedMerchant\")))\\\n",
    ".withColumn(\"listingprice_amount\", explode(col(\"ProductOffers.Offers.ListingPrice.Amount\")))\\\n",
    ".withColumn(\"listingprice_currency\", explode(col(\"ProductOffers.Offers.ListingPrice.CurrencyCode\")))\\\n",
    "\n",
    ".withColumn(\"availabilityType\", explode(col(\"ProductOffers.Offers.ShippingTime.AvailabilityType\")))\\\n",
    ".withColumn(\"availableDate\", explode(col(\"ProductOffers.Offers.ShippingTime.AvailableDate\")))\\\n",
    ".withColumn(\"maximumHours\", explode(col(\"ProductOffers.Offers.ShippingTime.MaximumHours\")))\\\n",
    ".withColumn(\"minimumHours\", explode(col(\"ProductOffers.Offers.ShippingTime.MinimumHours\")))\\\n",
    ".withColumn(\"shipsDomestically\", explode(col(\"ProductOffers.Offers.ShipsDomestically\")))\\\n",
    "\n",
    "#.withColumn(\"shipsFrom\", explode(col(\"ProductOffers.Offers.ShipsFrom\")  ))\\\n",
    ".withColumn(\"shipsFromState\", explode(col(\"ProductOffers.Offers.ShipsFrom.State\")))\\\n",
    ".withColumn(\"shipsFromCountry\", explode(col(\"ProductOffers.Offers.ShipsFrom.Country\")))\\\n",
    "\n",
    ".withColumn(\"shipsInternationally\", explode(col(\"ProductOffers.Offers.ShipsInternationally\")))\n",
    "\n",
    "cols = ['ProductOffers','TimeOfOfferChange']\n",
    "offerData = reduce(lambda x,y: x.drop(y),cols,res)\n",
    "offerData.show(1)"
   ]
  },
  {
   "cell_type": "code",
   "execution_count": null,
   "metadata": {
    "collapsed": true
   },
   "outputs": [],
   "source": [
    "335,544,32 rows,  5 GB,  13.5 MINs"
   ]
  },
  {
   "cell_type": "code",
   "execution_count": null,
   "metadata": {
    "collapsed": true
   },
   "outputs": [],
   "source": []
  },
  {
   "cell_type": "code",
   "execution_count": null,
   "metadata": {
    "collapsed": true
   },
   "outputs": [],
   "source": [
    "%pyspark\n",
    "\n",
    "#Flatten for offers,  262,144 rows, take 19s save to s3\n",
    "\n",
    "Offers = offerDF.withColumn(\"ItemCondition\", col(\"ProductOffers.Identifier.ItemCondition\"))\\\n",
    ".withColumn(\"IsBuyBoxWinner\", explode(col(\"ProductOffers.Offers.IsBuyBoxWinner\")))\\\n",
    ".withColumn(\"IsFeaturedMerchant\", explode(col(\"ProductOffers.Offers.IsFeaturedMerchant\")))\\\n",
    ".withColumn(\"listingprice_amount\", explode(col(\"ProductOffers.Offers.ListingPrice.Amount\")))\\\n",
    ".withColumn(\"listingprice_currency\", explode(col(\"ProductOffers.Offers.ListingPrice.CurrencyCode\")))\\\n",
    ".withColumn(\"subCondition\", explode(col(\"ProductOffers.Offers.SubCondition\")))\\\n",
    ".withColumn(\"Points\", explode(col(\"ProductOffers.Offers.Points\")))\\\n",
    ".withColumn(\"FeedbackCount\", explode(col(\"ProductOffers.Offers.SellerFeedbackRating.FeedbackCount\")))\\\n",
    ".withColumn(\"SellerPositiveFeedbackRating\", explode(col(\"ProductOffers.Offers.SellerFeedbackRating.SellerPositiveFeedbackRating\")))\\\n",
    ".withColumn(\"SellerId\", explode(col(\"ProductOffers.Offers.SellerId\")))\n",
    "\n",
    "\n",
    "cols = ['ProductOffers','TimeOfOfferChange']\n",
    "offersData = reduce(lambda x,y: x.drop(y),cols,Offers)\n",
    "#offersData.show(1)\n",
    "offersData.count()"
   ]
  },
  {
   "cell_type": "code",
   "execution_count": null,
   "metadata": {
    "collapsed": true
   },
   "outputs": [],
   "source": []
  },
  {
   "cell_type": "code",
   "execution_count": null,
   "metadata": {
    "collapsed": true
   },
   "outputs": [],
   "source": [
    "%pyspark\n",
    "#Flatten for offer Shipping, 419,4304 rows, take 50s save to s3\n",
    "\n",
    "OfferShippings = offerDF.withColumn(\"shipping_amount\", explode(col(\"ProductOffers.Offers.Shipping.Amount\")))\\\n",
    ".withColumn(\"shipping_currency\", explode(col(\"ProductOffers.Offers.Shipping.CurrencyCode\")))\\\n",
    ".withColumn(\"shipsInternationally\", explode(col(\"ProductOffers.Offers.ShipsInternationally\")))\\\n",
    ".withColumn(\"IsExpeditedShippingAvailable\", explode(col(\"ProductOffers.Offers.IsExpeditedShippingAvailable\")))\\\n",
    ".withColumn(\"availabilityType\", explode(col(\"ProductOffers.Offers.ShippingTime.AvailabilityType\")))\\\n",
    ".withColumn(\"availableDate\", explode(col(\"ProductOffers.Offers.ShippingTime.AvailableDate\")))\\\n",
    ".withColumn(\"maximumHours\", explode(col(\"ProductOffers.Offers.ShippingTime.MaximumHours\")))\\\n",
    ".withColumn(\"minimumHours\", explode(col(\"ProductOffers.Offers.ShippingTime.MinimumHours\")))\\\n",
    ".withColumn(\"shipsDomestically\", explode(col(\"ProductOffers.Offers.ShipsDomestically\")))\\\n",
    ".withColumn(\"shipsFromState\", explode(col(\"ProductOffers.Offers.ShipsFrom.State\")))\\\n",
    ".withColumn(\"shipsFromCountry\", explode(col(\"ProductOffers.Offers.ShipsFrom.Country\")))\n",
    "\n",
    "\n",
    "\n",
    "cols = ['ProductOffers','TimeOfOfferChange']\n",
    "OfferShippingData = reduce(lambda x,y: x.drop(y),cols,OfferShippings)\n",
    "#OfferShippingData.show(1)\n",
    "OfferShippingData.count()\n"
   ]
  },
  {
   "cell_type": "code",
   "execution_count": null,
   "metadata": {
    "collapsed": true
   },
   "outputs": [],
   "source": [
    "#Partition the output and save to s3\n",
    "#2 min 2 sec\n",
    "newOfferShippingData = OfferShippingData.repartition(100)\n",
    "newOfferShippingData.rdd.getNumPartitions()\n",
    "\n",
    "OfferSummary_prefixKey =  (datetime.utcnow()).strftime(\"s3a://offer-flatten/offer-summary-partition/%Y/%m/%d/\")\n",
    "newOfferShippingData.write.csv(OfferSummary_prefixKey, sep=',')"
   ]
  },
  {
   "cell_type": "code",
   "execution_count": null,
   "metadata": {
    "collapsed": true
   },
   "outputs": [],
   "source": [
    "# Partition by ItemId, 46 sec.\n",
    "OfferShipping_prefixKey =  (datetime.utcnow()).strftime(\"s3a://offer-flatten/offer-summary-partition2/%Y/%m/%d/\")\n",
    "OfferShippingData.repartition(\"ItemId\").write.partitionBy(\"ItemId\").csv(OfferShipping_prefixKey, sep=',')"
   ]
  },
  {
   "cell_type": "code",
   "execution_count": null,
   "metadata": {
    "collapsed": true
   },
   "outputs": [],
   "source": [
    "#Aother way to partition\n",
    "df.write.partitionBy(['inserted_at_day']).format(\"parquet\").save(dest, mode=\"append\")"
   ]
  },
  {
   "cell_type": "code",
   "execution_count": null,
   "metadata": {
    "collapsed": true
   },
   "outputs": [],
   "source": []
  },
  {
   "cell_type": "code",
   "execution_count": null,
   "metadata": {
    "collapsed": true
   },
   "outputs": [],
   "source": []
  },
  {
   "cell_type": "code",
   "execution_count": null,
   "metadata": {
    "collapsed": true
   },
   "outputs": [],
   "source": [
    "%pyspark\n",
    "#Flatten for offer summary, 128 rows, take \n",
    "\n",
    "\n",
    "OfferSummary = offerDF.withColumn(\"BuyBoxEligibleOffersCondition\", explode(col(\"ProductOffers.Summary.BuyBoxEligibleOffers.Condition\")))\\\n",
    ".withColumn(\"FulfillmentChannel\", explode(col(\"ProductOffers.Summary.BuyBoxEligibleOffers.FulfillmentChannel\")))\\\n",
    ".withColumn(\"BuyBoxEligibleOffersCount\", explode(col(\"ProductOffers.Summary.BuyBoxEligibleOffers.Value\")))\\\n",
    ".withColumn(\"LandedPrice_Amount\", explode(col(\"ProductOffers.Summary.BuyBoxPrices.LandedPrice.Amount\")))\\\n",
    ".withColumn(\"LandedPrice_Currency\", explode(col(\"ProductOffers.Summary.BuyBoxPrices.LandedPrice.CurrencyCode\")))\\\n",
    ".withColumn(\"BB_listPrice_Amount\", explode(col(\"ProductOffers.Summary.BuyBoxPrices.ListingPrice.Amount\")))\\\n",
    ".withColumn(\"BB_ListPrice_Currency\", explode(col(\"ProductOffers.Summary.BuyBoxPrices.ListingPrice.CurrencyCode\")))\\\n",
    ".withColumn(\"ListPrice_Amount\", col(\"ProductOffers.Summary.ListPrice.Amount\"))\\\n",
    ".withColumn(\"ListPrice_Currency\", col(\"ProductOffers.Summary.ListPrice.CurrencyCode\"))\\\n",
    ".withColumn(\"ListingPrice\", explode(col(\"ProductOffers.Summary.LowestPrices.ListingPrice.Amount\")))\\\n",
    ".withColumn(\"ListingPrice_Currency\", explode(col(\"ProductOffers.Summary.LowestPrices.ListingPrice.CurrencyCode\")))\\\n",
    ".withColumn(\"MinimumAdvertisedPrice\", col(\"ProductOffers.Summary.MinimumAdvertisedPrice\"))\\\n",
    ".withColumn(\"SalesRankings\", explode(col(\"ProductOffers.Summary.SalesRankings.ProductCategoryId\")))\\\n",
    ".withColumn(\"NumberOfOffers\", explode(col(\"ProductOffers.Summary.SalesRankings.Rank\")))\\\n",
    ".withColumn(\"SuggestedLowerPricePlusShipping\",col(\"ProductOffers.Summary.SuggestedLowerPricePlusShipping\"))\\\n",
    ".withColumn(\"TotalOfferCount\",col(\"ProductOffers.Summary.TotalOfferCount\"))\\\n",
    ".withColumn('OfOfferChangeDatetime', from_unixtime((regexp_replace('TimeOfOfferChange','[^0-9]', ''))/1000))\n",
    "\n",
    "\n",
    "cols = ['ProductOffers','TimeOfOfferChange']\n",
    "OfferSummaryData = reduce(lambda x,y: x.drop(y),cols,OfferSummary)\n",
    "#OfferSummaryData.show(1)\n",
    "OfferSummaryData.count()"
   ]
  },
  {
   "cell_type": "code",
   "execution_count": null,
   "metadata": {
    "collapsed": true
   },
   "outputs": [],
   "source": []
  },
  {
   "cell_type": "code",
   "execution_count": null,
   "metadata": {
    "collapsed": true
   },
   "outputs": [],
   "source": []
  }
 ],
 "metadata": {
  "kernelspec": {
   "display_name": "Python 2",
   "language": "python",
   "name": "python2"
  },
  "language_info": {
   "codemirror_mode": {
    "name": "ipython",
    "version": 2
   },
   "file_extension": ".py",
   "mimetype": "text/x-python",
   "name": "python",
   "nbconvert_exporter": "python",
   "pygments_lexer": "ipython2",
   "version": "2.7.9"
  }
 },
 "nbformat": 4,
 "nbformat_minor": 0
}
