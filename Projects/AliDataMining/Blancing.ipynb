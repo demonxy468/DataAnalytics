{
 "cells": [
  {
   "cell_type": "markdown",
   "metadata": {},
   "source": [
    "Github for imbalance learning:\n",
    "https://github.com/scikit-learn-contrib/imbalanced-learn\n",
    "\n",
    "Useful articles:\n",
    "强推： https://www.analyticsvidhya.com/blog/2017/03/imbalanced-classification-problem/\n",
    "http://contrib.scikit-learn.org/imbalanced-learn/stable/over_sampling.html#smote-variants\n",
    "https://quantdare.com/what-is-the-difference-between-bagging-and-boosting/\n",
    "\n",
    "处理数据平衡问题的两个大方向：\n",
    "1. 通过采样方法来平衡数据\n",
    "    a. over-sampling  (这是我们以下会用到的方法)\n",
    "    b. under-sampling\n",
    "2. 通过混合不同的模型来减少数据不平衡带来的影响"
   ]
  },
  {
   "cell_type": "code",
   "execution_count": 2,
   "metadata": {
    "collapsed": true
   },
   "outputs": [],
   "source": [
    "#1. read data   \n",
    "import pandas as pd\n",
    "import matplotlib.pyplot as plt\n",
    "import numpy as np\n",
    "\n",
    "from collections import Counter\n",
    "from decimal import *\n",
    "from imblearn.over_sampling import SMOTE, ADASYN\n",
    "from sklearn.datasets import make_classification\n",
    "\n",
    "\n",
    "ads = pd.read_csv('./round1_ijcai_18_train_20180301.txt', sep=\" \")"
   ]
  },
  {
   "cell_type": "code",
   "execution_count": null,
   "metadata": {
    "collapsed": true
   },
   "outputs": [],
   "source": []
  },
  {
   "cell_type": "code",
   "execution_count": null,
   "metadata": {},
   "outputs": [],
   "source": []
  },
  {
   "cell_type": "code",
   "execution_count": null,
   "metadata": {
    "collapsed": true
   },
   "outputs": [],
   "source": [
    "#采样前删除掉干扰的列，例如ID\n",
    "# 原始数据列数：27\n",
    "ads.columns"
   ]
  },
  {
   "cell_type": "markdown",
   "metadata": {},
   "source": [
    "['instance_id', 'item_id', 'item_category_list', 'item_property_list', 'item_brand_id', 'item_city_id', 'item_price_level', 'item_sales_level', 'item_collected_level', 'item_pv_level', 'user_id', 'user_gender_id', 'user_age_level', 'user_occupation_id', 'user_star_level', 'context_id', 'context_timestamp', 'context_page_id', 'predict_category_property', 'shop_id', 'shop_review_num_level', 'shop_review_positive_rate', 'shop_star_level', 'shop_score_service', 'shop_score_delivery', 'shop_score_description', 'is_trade']"
   ]
  },
  {
   "cell_type": "code",
   "execution_count": 3,
   "metadata": {},
   "outputs": [],
   "source": [
    "#先随机采样减小计算复杂度\n",
    "chosen_idx = np.random.choice(len(ads), replace=False, size=1000)\n",
    "sample_raw = ads.iloc[chosen_idx]\n",
    "\n",
    "rm_col = ['instance_id', 'item_id','user_id','context_id',\"item_category_list\",\"item_property_list\",\"predict_category_property\"]\n",
    "sample_raw = sample_raw.drop(rm_col, axis=1)\n",
    "\n",
    "# sample_raw.item_category_list = sample_raw.item_category_list.str.split(\";\")\n",
    "# sample_raw.item_property_list = sample_raw.item_property_list.str.split(\";\")\n",
    "# sample_raw.predict_category_property  = sample_raw.predict_category_property.str.split(\";\")"
   ]
  },
  {
   "cell_type": "code",
   "execution_count": null,
   "metadata": {
    "collapsed": true
   },
   "outputs": [],
   "source": []
  },
  {
   "cell_type": "code",
   "execution_count": 7,
   "metadata": {},
   "outputs": [],
   "source": []
  },
  {
   "cell_type": "code",
   "execution_count": null,
   "metadata": {},
   "outputs": [],
   "source": []
  },
  {
   "cell_type": "markdown",
   "metadata": {},
   "source": [
    "尝试不同的采样方法:\n",
    "@Over-sampling\n",
    "    Random minority over-sampling with replacement\n",
    "\n",
    "    SMOTE - Synthetic Minority Over-sampling Technique \n",
    "        SMOTE_KIND = ('regular', 'borderline1', 'borderline2', 'svm')\n",
    "\n",
    "    SVM SMOTE - Support Vectors SMOTE\n",
    "\n",
    "    ADASYN - Adaptive synthetic sampling approach for imbalanced learning"
   ]
  },
  {
   "cell_type": "code",
   "execution_count": 4,
   "metadata": {},
   "outputs": [
    {
     "name": "stdout",
     "output_type": "stream",
     "text": [
      "Original dataset shape Counter({0: 988, 1: 12})\n",
      "Resampled dataset shape Counter({0: 988, 1: 988})\n"
     ]
    }
   ],
   "source": [
    "X_reg, y_reg = sample_raw.drop(['is_trade'], axis=1),sample_raw['is_trade']\n",
    "\n",
    "print('Original dataset shape {}'.format(Counter(y_reg)))\n",
    "\n",
    "# 使用SMOTE采样方法平衡数据集：\n",
    "sm = SMOTE(kind='regular',random_state=42)\n",
    "X_res_reg, y_res_reg = sm.fit_sample(X_reg, y_reg)\n",
    "print('Resampled dataset shape {}'.format(Counter(y_res_reg)))"
   ]
  },
  {
   "cell_type": "code",
   "execution_count": 6,
   "metadata": {},
   "outputs": [
    {
     "data": {
      "text/plain": [
       "array([[  6.98563108e+18,   4.64495413e+18,   7.00000000e+00, ...,\n",
       "          9.68175014e-01,   9.64329303e-01,   9.85768566e-01],\n",
       "       [  7.19291662e+18,   5.32600043e+18,   5.00000000e+00, ...,\n",
       "          9.69980250e-01,   9.67873601e-01,   9.61263158e-01],\n",
       "       [  1.72853799e+18,   2.57795161e+18,   6.00000000e+00, ...,\n",
       "          9.71739703e-01,   9.71398211e-01,   9.84047954e-01],\n",
       "       ..., \n",
       "       [  8.24435601e+18,   6.76239728e+18,   6.00000000e+00, ...,\n",
       "          9.59990352e-01,   9.58278012e-01,   9.55956593e-01],\n",
       "       [  7.51418546e+18,   3.94828333e+18,   5.83965526e+00, ...,\n",
       "          9.63728406e-01,   9.64782430e-01,   9.58319875e-01],\n",
       "       [  8.15331771e+18,   6.57322971e+18,   6.00000000e+00, ...,\n",
       "          9.56883852e-01,   9.55619196e-01,   9.52813528e-01]])"
      ]
     },
     "execution_count": 6,
     "metadata": {},
     "output_type": "execute_result"
    }
   ],
   "source": [
    "X_res_reg"
   ]
  },
  {
   "cell_type": "code",
   "execution_count": null,
   "metadata": {
    "collapsed": true
   },
   "outputs": [],
   "source": []
  },
  {
   "cell_type": "code",
   "execution_count": null,
   "metadata": {
    "collapsed": true
   },
   "outputs": [],
   "source": []
  },
  {
   "cell_type": "code",
   "execution_count": null,
   "metadata": {
    "collapsed": true
   },
   "outputs": [],
   "source": []
  },
  {
   "cell_type": "code",
   "execution_count": 13,
   "metadata": {},
   "outputs": [
    {
     "name": "stdout",
     "output_type": "stream",
     "text": [
      "Original dataset shape Counter({0: 4900, 1: 100})\n",
      "Resampled dataset shape Counter({0: 4900, 1: 4900})\n"
     ]
    }
   ],
   "source": [
    "X_b1, y_b1 = sample_raw.drop(['is_trade'], axis=1),sample_raw['is_trade']\n",
    "\n",
    "print('Original dataset shape {}'.format(Counter(y_b1)))\n",
    "\n",
    "# 使用SMOTE采样方法平衡数据集：\n",
    "sm = SMOTE(kind='borderline1',random_state=42)\n",
    "X_res_b1, y_res_b1 = sm.fit_sample(X_b1, y_b1)\n",
    "print('Resampled dataset shape {}'.format(Counter(y_res)))"
   ]
  },
  {
   "cell_type": "code",
   "execution_count": null,
   "metadata": {
    "collapsed": true
   },
   "outputs": [],
   "source": []
  },
  {
   "cell_type": "code",
   "execution_count": 14,
   "metadata": {},
   "outputs": [
    {
     "name": "stdout",
     "output_type": "stream",
     "text": [
      "Original dataset shape Counter({0: 4900, 1: 100})\n",
      "Resampled dataset shape Counter({0: 4900, 1: 2740})\n"
     ]
    }
   ],
   "source": [
    "X_svm, y_svm = sample_raw.drop(['is_trade'], axis=1),sample_raw['is_trade']\n",
    "\n",
    "print('Original dataset shape {}'.format(Counter(y_svm)))\n",
    "\n",
    "# 使用SMOTE采样方法平衡数据集：\n",
    "sm = SMOTE(kind='svm',random_state=42)\n",
    "X_res_svm, y_res_svm = sm.fit_sample(X, y)\n",
    "print('Resampled dataset shape {}'.format(Counter(y_res_svm)))"
   ]
  },
  {
   "cell_type": "markdown",
   "metadata": {},
   "source": [
    "Adaptive Synthetic (ADASYN) sampling method\n",
    "针对小众数据，通过类似特征人工生成类似的数据点插入到样本中，以增大小众数据的样本数量，平衡数据。"
   ]
  },
  {
   "cell_type": "code",
   "execution_count": null,
   "metadata": {},
   "outputs": [],
   "source": [
    "X_ADASYN, y_ADASYN = sample_raw.drop(['is_trade'], axis=1),sample_raw['is_trade']\n",
    "print('Original dataset shape {}'.format(Counter(y_ADASYN)))\n",
    "X_res_ADASYN, y_res_ADASYN = ADASYN().fit_sample(X_ADASYN, y_ADASYN)\n",
    "print('Resampled dataset shape {}'.format(Counter(y_res_ADASYN)))"
   ]
  },
  {
   "cell_type": "code",
   "execution_count": null,
   "metadata": {},
   "outputs": [],
   "source": []
  },
  {
   "cell_type": "code",
   "execution_count": null,
   "metadata": {
    "collapsed": true
   },
   "outputs": [],
   "source": []
  },
  {
   "cell_type": "code",
   "execution_count": null,
   "metadata": {
    "collapsed": true
   },
   "outputs": [],
   "source": []
  },
  {
   "cell_type": "code",
   "execution_count": null,
   "metadata": {},
   "outputs": [],
   "source": []
  },
  {
   "cell_type": "code",
   "execution_count": null,
   "metadata": {},
   "outputs": [],
   "source": []
  },
  {
   "cell_type": "code",
   "execution_count": null,
   "metadata": {},
   "outputs": [],
   "source": []
  }
 ],
 "metadata": {
  "kernelspec": {
   "display_name": "Python 2",
   "language": "python",
   "name": "python2"
  },
  "language_info": {
   "codemirror_mode": {
    "name": "ipython",
    "version": 2
   },
   "file_extension": ".py",
   "mimetype": "text/x-python",
   "name": "python",
   "nbconvert_exporter": "python",
   "pygments_lexer": "ipython2",
   "version": "2.7.14"
  }
 },
 "nbformat": 4,
 "nbformat_minor": 1
}
